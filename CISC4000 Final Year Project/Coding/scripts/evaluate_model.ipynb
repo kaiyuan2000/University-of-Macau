{
 "cells": [
  {
   "cell_type": "code",
   "execution_count": 1,
   "metadata": {},
   "outputs": [],
   "source": [
    "from stable_baselines3.common.utils import set_random_seed\n",
    "import os\n",
    "import numpy as np\n",
    "import quantstats as qs\n",
    "import pandas as pd\n",
    "import matplotlib.pyplot as plt"
   ]
  },
  {
   "cell_type": "code",
   "execution_count": 2,
   "metadata": {},
   "outputs": [],
   "source": [
    "random_seed = 12346\n",
    "set_random_seed(random_seed)  # Seed for Stable Baselines3\n",
    "np.random.seed(random_seed)   # Seed for numpy which might be used by the environment"
   ]
  },
  {
   "cell_type": "code",
   "execution_count": 4,
   "metadata": {},
   "outputs": [],
   "source": [
    "# /scripts/evaluate_model.py\n",
    "\n",
    "def evaluate(model, test_df, test_env):\n",
    "    reward_results = {\"sharpe_ratios\": [], \"max_drawdowns\": [], \"total_rewards\": [], \"total_profits\": []}\n",
    "    \n",
    "    obs, info = test_env.reset(seed=random_seed,options=None)\n",
    "    done = False\n",
    "    \n",
    "    while not done:\n",
    "        action, _states = model.predict(obs)\n",
    "        obs, rewards, terminated, truncated, info = test_env.step(action)\n",
    "        done = terminated or truncated\n",
    "\n",
    "        if done:\n",
    "            qs.extend_pandas()\n",
    "            net_worth = pd.Series(test_env.unwrapped.history[\"total_profit\"], index=test_df.index[30+ 1:test_df.shape[0]])\n",
    "\n",
    "            returns = net_worth.pct_change().iloc[1:]\n",
    "            returns.index = pd.to_datetime(returns.index)\n",
    "            sharpe_ratio = returns.sharpe()\n",
    "            max_drawdown = returns.max_drawdown()\n",
    "            # Append results for this run\n",
    "            reward_results[\"sharpe_ratios\"].append(sharpe_ratio)\n",
    "            reward_results[\"max_drawdowns\"].append(max_drawdown)\n",
    "            reward_results[\"total_rewards\"].append(info[\"total_reward\"])\n",
    "            reward_results[\"total_profits\"].append(info[\"total_profit\"])\n",
    "            break\n",
    "        \n",
    "    print(reward_results)\n",
    "    plt.cla()\n",
    "    test_env.unwrapped.render_all()\n",
    "    plt.show()\n",
    "    return reward_results"
   ]
  }
 ],
 "metadata": {
  "kernelspec": {
   "display_name": "base",
   "language": "python",
   "name": "python3"
  },
  "language_info": {
   "codemirror_mode": {
    "name": "ipython",
    "version": 3
   },
   "file_extension": ".py",
   "mimetype": "text/x-python",
   "name": "python",
   "nbconvert_exporter": "python",
   "pygments_lexer": "ipython3",
   "version": "3.11.5"
  }
 },
 "nbformat": 4,
 "nbformat_minor": 2
}
