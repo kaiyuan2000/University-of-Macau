{
 "cells": [
  {
   "cell_type": "code",
   "execution_count": 6,
   "metadata": {},
   "outputs": [],
   "source": [
    "from stable_baselines3 import PPO\n",
    "from stable_baselines3.common.utils import set_random_seed\n",
    "import os\n",
    "import numpy as np"
   ]
  },
  {
   "cell_type": "code",
   "execution_count": 7,
   "metadata": {},
   "outputs": [],
   "source": [
    "random_seed = 12346\n",
    "set_random_seed(random_seed)  # Seed for Stable Baselines3\n",
    "np.random.seed(random_seed)   # Seed for numpy which might be used by the environment\n",
    "\n",
    "def train(train_env):\n",
    "    obs = train_env.reset(seed=random_seed,options=None)\n",
    "\n",
    "    policy_kwargs = dict(\n",
    "        net_arch=dict(pi=[64,64,64], vf=[64,64,64])\n",
    "    )\n",
    "    # Define the model\n",
    "    model = PPO('MlpPolicy', train_env, verbose=0, policy_kwargs=policy_kwargs)\n",
    "    \n",
    "    # Train the model\n",
    "    model.learn(total_timesteps=2000000)\n",
    "\n",
    "    train_env.close()\n",
    "\n",
    "    print(\"Model training complete.\")\n",
    "    \n",
    "    return model"
   ]
  }
 ],
 "metadata": {
  "kernelspec": {
   "display_name": "base",
   "language": "python",
   "name": "python3"
  },
  "language_info": {
   "codemirror_mode": {
    "name": "ipython",
    "version": 3
   },
   "file_extension": ".py",
   "mimetype": "text/x-python",
   "name": "python",
   "nbconvert_exporter": "python",
   "pygments_lexer": "ipython3",
   "version": "3.11.5"
  }
 },
 "nbformat": 4,
 "nbformat_minor": 2
}
