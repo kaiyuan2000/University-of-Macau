{
 "cells": [
  {
   "cell_type": "code",
   "execution_count": 12,
   "metadata": {},
   "outputs": [],
   "source": [
    "# /scripts/data_preprocessing.py\n",
    "\n",
    "import pandas as pd\n",
    "from sklearn.preprocessing import StandardScaler\n",
    "import os\n",
    "\n",
    "def preprocess_data(data_dir, file_name):\n",
    "\n",
    "    #load data\n",
    "    data_path = os.path.join(data_dir, file_name)\n",
    "    df = pd.read_csv(data_path, index_col=0)\n",
    "    price_columns = ['Open', 'High', 'Low', 'Close', 'Adj Close'] \n",
    "\n",
    "    # Normalize price columns\n",
    "    scaler = StandardScaler()\n",
    "    df[price_columns] = scaler.fit_transform(df[price_columns])\n",
    "    \n",
    "    return df\n"
   ]
  },
  {
   "cell_type": "code",
   "execution_count": 13,
   "metadata": {},
   "outputs": [],
   "source": [
    "def load_data(data_dir, file_name):\n",
    "    df = preprocess_data(data_dir,file_name)\n",
    "    num_data = df.shape[0]\n",
    "    train_end_index = round(num_data * 0.95)\n",
    "\n",
    "    # Split the DataFrame into training and testing sets\n",
    "    train_df = df.iloc[:train_end_index]\n",
    "    test_df = df.iloc[train_end_index-30:]\n",
    "    return train_df, test_df"
   ]
  },
  {
   "cell_type": "code",
   "execution_count": 9,
   "metadata": {},
   "outputs": [],
   "source": [
    "#testing\n",
    "#train_df, test_df = load_data('/Users/kaiyuan/Desktop/Coding/data','GS_10years.csv')"
   ]
  }
 ],
 "metadata": {
  "kernelspec": {
   "display_name": "base",
   "language": "python",
   "name": "python3"
  },
  "language_info": {
   "codemirror_mode": {
    "name": "ipython",
    "version": 3
   },
   "file_extension": ".py",
   "mimetype": "text/x-python",
   "name": "python",
   "nbconvert_exporter": "python",
   "pygments_lexer": "ipython3",
   "version": "3.11.5"
  }
 },
 "nbformat": 4,
 "nbformat_minor": 2
}
