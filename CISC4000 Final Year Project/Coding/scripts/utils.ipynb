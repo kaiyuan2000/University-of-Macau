{
 "cells": [
  {
   "cell_type": "code",
   "execution_count": 1,
   "metadata": {},
   "outputs": [],
   "source": [
    "import pandas as pd\n",
    "import numpy as np\n",
    "import yfinance as yf\n"
   ]
  },
  {
   "cell_type": "code",
   "execution_count": 2,
   "metadata": {},
   "outputs": [],
   "source": [
    "def buy_and_hold_performance(data_path):\n",
    "    df = pd.read_csv(data_path, index_col=0)\n",
    "    num_data = df.shape[0]\n",
    "    train_end_index = round(num_data * 0.95)\n",
    "\n",
    "    # Split the DataFrame into training and testing sets\n",
    "    train_df = df.iloc[:train_end_index]\n",
    "    test_df = df.iloc[train_end_index:]\n",
    "\n",
    "    # Calculate initial and final prices\n",
    "    initial_price = test_df.iloc[0][\"Open\"]\n",
    "    final_price = test_df.iloc[-1][\"Close\"]\n",
    "    total_return = (final_price - initial_price) / initial_price + 1\n",
    "\n",
    "    # Calculate daily returns\n",
    "    daily_returns = test_df['Close'].pct_change().dropna()\n",
    "\n",
    "    # Maximum drawdown calculation\n",
    "    cumulative_returns = (1 + daily_returns).cumprod()\n",
    "    peak = cumulative_returns.cummax()\n",
    "    drawdown = (cumulative_returns - peak) / peak\n",
    "    max_drawdown = drawdown.min()\n",
    "\n",
    "    # Sharpe Ratio calculation\n",
    "    risk_free_rate = 0.02  # Assuming a risk-free rate of 2%\n",
    "    excess_returns = daily_returns - (risk_free_rate / 252)  # daily risk-free rate\n",
    "    sharpe_ratio = np.sqrt(252) * excess_returns.mean() / excess_returns.std()\n",
    "\n",
    "    print(f\"Total return is {total_return}, with Sharpe Ratio of {sharpe_ratio}, and Max Drawdown is {max_drawdown}.\")\n",
    "    return 0"
   ]
  },
  {
   "cell_type": "code",
   "execution_count": 3,
   "metadata": {},
   "outputs": [],
   "source": [
    "def download_data(tic,start_date,end_date,path):\n",
    "    df = yf.download(tic, start=start_date, end=end_date)\n",
    "    df.to_csv(path, index=True)\n",
    "    \n",
    "# tic = \"PFE\"\n",
    "# start_date = \"2014-03-01\"\n",
    "# end_date = \"2024-03-01\"\n",
    "# path = \"/Users/kaiyuan/Desktop/PFE_10years.csv\"\n",
    "# download_data(tic,start_date,end_date,path)"
   ]
  }
 ],
 "metadata": {
  "kernelspec": {
   "display_name": "base",
   "language": "python",
   "name": "python3"
  },
  "language_info": {
   "codemirror_mode": {
    "name": "ipython",
    "version": 3
   },
   "file_extension": ".py",
   "mimetype": "text/x-python",
   "name": "python",
   "nbconvert_exporter": "python",
   "pygments_lexer": "ipython3",
   "version": "3.11.5"
  }
 },
 "nbformat": 4,
 "nbformat_minor": 2
}
