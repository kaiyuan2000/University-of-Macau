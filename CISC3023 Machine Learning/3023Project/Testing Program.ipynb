{
 "cells": [
  {
   "cell_type": "code",
   "execution_count": 8,
   "id": "f502b166",
   "metadata": {},
   "outputs": [],
   "source": [
    "import matplotlib.pyplot as plt\n",
    "import csv\n",
    "from PIL import Image\n",
    "import numpy as np\n",
    "from sklearn import svm\n",
    "from sklearn.ensemble import RandomForestClassifier\n",
    "from sklearn.linear_model import LogisticRegression\n",
    "from sklearn.metrics import accuracy_score\n",
    "from sklearn.model_selection import cross_val_score\n",
    "from sklearn.metrics import confusion_matrix\n",
    "import argparse\n",
    "import pickle"
   ]
  },
  {
   "cell_type": "markdown",
   "id": "05aeffa4",
   "metadata": {},
   "source": [
    "This is Testing Program. \n",
    "Note : need to change testing_directory & model_directory to correct directory \n",
    "*the model_directory included model that are output from previous \"final_train_program\")\n",
    "\n",
    "run testProgram to get output.\n",
    "\n",
    "Output of the testing program will be :\n",
    "1) Accuracy of testing data \n",
    "2) Confusion matrix \n",
    "of each model\n",
    "\n"
   ]
  },
  {
   "cell_type": "markdown",
   "id": "1a7e5ae7",
   "metadata": {},
   "source": [
    "The input of testProgram(clf,rootpath) is :\n",
    "1) clf can be :\n",
    "\"all\" : will run testing data on all models\n",
    "\"RF\" : will run testing data on Random Forest model only\n",
    "\"SVM\" : will run testing data on SVM model only\n",
    "\"MLP\" : will run tetsing data on MLP neural network model only \n",
    "2) rootpath : \n",
    "it's the directory of testing data, can put as \"testing_directory\" "
   ]
  },
  {
   "cell_type": "code",
   "execution_count": 15,
   "id": "bfbca4bb",
   "metadata": {},
   "outputs": [],
   "source": [
    "testing_directory = \"/Users/kaiyuan/Desktop/3023Project/Test\"\n",
    "model_directory = '/Users/kaiyuan/Desktop/3023Project/My_model/'"
   ]
  },
  {
   "cell_type": "code",
   "execution_count": 16,
   "id": "94bf0892",
   "metadata": {},
   "outputs": [
    {
     "name": "stdout",
     "output_type": "stream",
     "text": [
      "Folder should look like:\n",
      "['.DS_Store', 'model.sav', 'test1.ppm', 'test2.ppm', 'test.csv', 'test3.ppm', 'test4.ppm', 'TrafficSignsTestModel.py']\n",
      "\n",
      "Folder should look like:\n",
      "['.DS_Store', 'FinalrandomForest.pkl', 'finalsvm.pkl', 'neuralnetwork.pkl']\n",
      "\n"
     ]
    }
   ],
   "source": [
    "import os\n",
    "print(\"Folder should look like:\")\n",
    "print(os.listdir(testing_directory))\n",
    "print()\n",
    "\n",
    "print(\"Folder should look like:\")\n",
    "print(os.listdir(model_directory))\n",
    "print()"
   ]
  },
  {
   "cell_type": "code",
   "execution_count": 17,
   "id": "68f16c31",
   "metadata": {},
   "outputs": [],
   "source": [
    "from skimage import exposure\n",
    "import cv2 as cv\n",
    "\n",
    "def readTrafficSigns(rootpath):\n",
    "    '''Reads traffic sign data \n",
    "    Arguments: path to the traffic sign data, for example './TrafficSignData/Test'\n",
    "    Returns:   list of images, list of corresponding labels'''\n",
    "    images = [] # images\n",
    "    labels = [] # corresponding labels\n",
    "    prefix = rootpath + '/' # subdirectory for test\n",
    "    gtFile = open(prefix + 'test'+'.csv') # annotations file\n",
    "    gtReader = csv.reader(gtFile, delimiter=';') # csv parser for annotations file\n",
    "    #gtReader.next() # skip header\n",
    "    next(gtReader)\n",
    "    # loop over all images in current annotations file\n",
    "    for row in gtReader:\n",
    "        img=Image.open(prefix + row[0])  # the 1th column is the filename\n",
    "        # preprocesing image, make sure the images are in the same size\n",
    "        img=img.crop((int(row[3]),int(row[4]),int(row[5]),int(row[6])))\n",
    "        img=img.resize((32,32), Image.BICUBIC)\n",
    "        img=np.array(img)\n",
    "        img = cv.cvtColor(img, cv.COLOR_BGR2GRAY)\n",
    "        img=exposure.equalize_adapthist(img,clip_limit=0.1)\n",
    "        images.append(img) \n",
    "        labels.append(row[7]) # the 8th column is the label\n",
    "    gtFile.close()\n",
    "    return images, labels\n",
    "\n"
   ]
  },
  {
   "cell_type": "code",
   "execution_count": 18,
   "id": "b01d7796",
   "metadata": {},
   "outputs": [],
   "source": [
    "def loadData():\n",
    "    testImages, testLabels = readTrafficSigns(testing_directory)\n",
    "    print('number of testing data=', len(testLabels))\n",
    "    # design the input and output for model\n",
    "    X=[]\n",
    "    Y=[]\n",
    "    for i in range(0,len(testLabels)):\n",
    "        # input X just the flattern image\n",
    "        X.append(testImages[i].flatten())\n",
    "        Y.append(int(testLabels[i]))\n",
    "    X=np.array(X)\n",
    "    Y=np.array(Y)\n",
    "    return X,Y"
   ]
  },
  {
   "cell_type": "code",
   "execution_count": 21,
   "id": "6a919b8b",
   "metadata": {},
   "outputs": [],
   "source": [
    "\n",
    "def testProgram(clf,rootpath):\n",
    "    \n",
    "    X_pred, Y_pred = loadData()\n",
    "    \n",
    "    if clf ==\"all\":\n",
    "        #Load RF clf\n",
    "        with open(model_directory+\"FinalrandomForest.pkl\", 'rb') as open_file:\n",
    "            rf_clf = pickle.load(open_file)\n",
    "        #Predict for RF\n",
    "        Y_out = rf_clf.predict(X_pred)\n",
    "        accuracy = accuracy_score(Y_pred,Y_out)\n",
    "        #Output Accuracy\n",
    "        print(\"RandomForest_Accuracy: \"+str(accuracy))\n",
    "        model_confusion_matrix = confusion_matrix(Y_pred,rf_clf.predict(X_pred))\n",
    "        print(f\"Confusion Matrix :\")\n",
    "        print(model_confusion_matrix)\n",
    "\n",
    "        \n",
    "        #Load SVM clf\n",
    "        with open(model_directory+\"finalsvm.pkl\", 'rb') as open_file:\n",
    "            svm_clf = pickle.load(open_file)\n",
    "        #Predict for SVM\n",
    "        Y_out = svm_clf.predict(X_pred)\n",
    "        accuracy = accuracy_score(Y_pred,Y_out)\n",
    "        #Output Accuracy\n",
    "        print(\"SVM_Accuracy: \"+str(accuracy))\n",
    "        model_confusion_matrix = confusion_matrix(Y_pred,svm_clf.predict(X_pred))\n",
    "        print(f\"Confusion Matrix :\")\n",
    "        print(model_confusion_matrix)\n",
    "        \n",
    "        #Load MLP clf\n",
    "        with open(model_directory+\"neuralnetwork.pkl\", 'rb') as open_file:\n",
    "            mlp_clf = pickle.load(open_file)\n",
    "        #Predict for mlp\n",
    "        Y_out = mlp_clf.predict(X_pred)\n",
    "        accuracy = accuracy_score(Y_pred,Y_out)\n",
    "        #Output Accuracy\n",
    "        print(\"NeuralNetwork_Accuracy: \"+str(accuracy))\n",
    "        model_confusion_matrix = confusion_matrix(Y_pred,mlp_clf.predict(X_pred))\n",
    "        print(f\"Confusion Matrix :\")\n",
    "        print(model_confusion_matrix)\n",
    "        \n",
    "    elif clf ==\"RF\":\n",
    "        #Load RF clf\n",
    "        with open(model_directory+\"FinalrandomForest.pkl\", 'rb') as open_file:\n",
    "            rf_clf = pickle.load(open_file)\n",
    "        #Predict for RF\n",
    "        Y_out = rf_clf.predict(X_pred)\n",
    "        accuracy = accuracy_score(Y_pred,Y_out)\n",
    "        #Output Accuracy\n",
    "        print(\"RandomForest_Accuracy: \"+str(accuracy))\n",
    "        model_confusion_matrix = confusion_matrix(Y_pred,rf_clf.predict(X_pred))\n",
    "        print(f\"Confusion Matrix :\")\n",
    "        print(model_confusion_matrix)\n",
    "    \n",
    "    elif clf==\"SVM\":\n",
    "        #Load SVM clf\n",
    "        \n",
    "        with open(model_directory+\"finalsvm.pkl\", 'rb') as open_file:\n",
    "            svm_clf = pickle.load(open_file)\n",
    "        #Predict for SVM\n",
    "        Y_out = svm_clf.predict(X_pred)\n",
    "        accuracy = accuracy_score(Y_pred,Y_out)\n",
    "        #Output Accuracy\n",
    "        print(\"SVM_Accuracy: \"+str(accuracy))\n",
    "        model_confusion_matrix = confusion_matrix(Y_pred,svm_clf.predict(X_pred))\n",
    "        print(f\"Confusion Matrix :\")\n",
    "        print(model_confusion_matrix)\n",
    "    \n",
    "    elif clf==\"MLP\":\n",
    "        #Load MLP clf\n",
    "        with open(model_directory+\"neuralnetwork.pkl\", 'rb') as open_file:\n",
    "            mlp_clf = pickle.load(open_file)\n",
    "        #Predict for mlp\n",
    "        Y_out = mlp_clf.predict(X_pred)\n",
    "        accuracy = accuracy_score(Y_pred,Y_out)\n",
    "        #Output Accuracy\n",
    "        print(\"NeuralNetwork_Accuracy: \"+str(accuracy))\n",
    "        model_confusion_matrix = confusion_matrix(Y_pred,mlp_clf.predict(X_pred))\n",
    "        print(f\"Confusion Matrix :\")\n",
    "        print(model_confusion_matrix)\n",
    "        \n",
    "    else:\n",
    "        print(\"No such classifier found.\")\n",
    "    return"
   ]
  },
  {
   "cell_type": "code",
   "execution_count": 22,
   "id": "13d4a27e",
   "metadata": {},
   "outputs": [
    {
     "name": "stdout",
     "output_type": "stream",
     "text": [
      "number of testing data= 4\n",
      "RandomForest_Accuracy: 0.5\n",
      "Confusion Matrix :\n",
      "[[0 0 0 0]\n",
      " [0 0 0 0]\n",
      " [0 1 1 0]\n",
      " [1 0 0 1]]\n",
      "SVM_Accuracy: 0.25\n",
      "Confusion Matrix :\n",
      "[[0 0 0 0]\n",
      " [0 0 0 0]\n",
      " [0 1 1 0]\n",
      " [1 1 0 0]]\n",
      "NeuralNetwork_Accuracy: 0.25\n",
      "Confusion Matrix :\n",
      "[[0 0 0 0]\n",
      " [0 0 0 0]\n",
      " [0 1 1 0]\n",
      " [2 0 0 0]]\n"
     ]
    }
   ],
   "source": [
    "testProgram(\"all\",testing_directory)"
   ]
  },
  {
   "cell_type": "code",
   "execution_count": null,
   "id": "e3fef0b0",
   "metadata": {},
   "outputs": [],
   "source": []
  }
 ],
 "metadata": {
  "kernelspec": {
   "display_name": "Python 3 (ipykernel)",
   "language": "python",
   "name": "python3"
  },
  "language_info": {
   "codemirror_mode": {
    "name": "ipython",
    "version": 3
   },
   "file_extension": ".py",
   "mimetype": "text/x-python",
   "name": "python",
   "nbconvert_exporter": "python",
   "pygments_lexer": "ipython3",
   "version": "3.9.12"
  }
 },
 "nbformat": 4,
 "nbformat_minor": 5
}
