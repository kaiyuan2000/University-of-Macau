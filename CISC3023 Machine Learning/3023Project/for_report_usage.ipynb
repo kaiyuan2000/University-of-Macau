{
 "cells": [
  {
   "cell_type": "code",
   "execution_count": 212,
   "id": "85f19186",
   "metadata": {},
   "outputs": [],
   "source": [
    "import matplotlib.pyplot as plt\n",
    "import csv\n",
    "from PIL import Image\n",
    "import numpy as np\n",
    "from sklearn import svm\n",
    "from sklearn.ensemble import RandomForestClassifier\n",
    "from sklearn.linear_model import LogisticRegression\n",
    "from sklearn.metrics import accuracy_score\n",
    "from sklearn.model_selection import cross_val_score\n",
    "import argparse\n",
    "import pickle"
   ]
  },
  {
   "cell_type": "markdown",
   "id": "57c0c822",
   "metadata": {},
   "source": [
    "This notebook of code is just for report. \n",
    "1) Trying different parameters to get the best model.\n",
    "2) Try different way of image preprocessing. \n",
    "\n",
    "Actual trainer program & testing program is at another notebook."
   ]
  },
  {
   "cell_type": "code",
   "execution_count": 213,
   "id": "165e0d34",
   "metadata": {},
   "outputs": [],
   "source": [
    "FOLDER_DIR = \"/Users/kaiyuan/Desktop/3023Project/TrafficSignData/Training\""
   ]
  },
  {
   "cell_type": "code",
   "execution_count": 214,
   "id": "e23ce7c2",
   "metadata": {},
   "outputs": [
    {
     "name": "stdout",
     "output_type": "stream",
     "text": [
      "Folder should look like:\n",
      "['00009', '00000', '00007', '00006', '00001', '00008', '00012', '00014', '00013', '00004', '00003', '00002', '00005', '00011', '00010']\n",
      "\n"
     ]
    }
   ],
   "source": [
    "import os\n",
    "print(\"Folder should look like:\")\n",
    "print(os.listdir(FOLDER_DIR))\n",
    "print()\n"
   ]
  },
  {
   "cell_type": "markdown",
   "id": "32b66b8e",
   "metadata": {},
   "source": [
    "Read files with preprocessing of \n",
    "1) Resize"
   ]
  },
  {
   "cell_type": "code",
   "execution_count": 215,
   "id": "45032895",
   "metadata": {},
   "outputs": [],
   "source": [
    "import cv2 as cv\n",
    "from skimage import exposure\n",
    "\n",
    "def readTrafficSigns(rootpath):\n",
    "    '''Reads traffic sign data \n",
    "    Arguments: path to the traffic sign data, for example './TrafficSignData/Training'\n",
    "    Returns:   list of images, list of corresponding labels'''\n",
    "    images = [] # images\n",
    "    labels = [] # corresponding labels\n",
    "    # loop over N classes, at most we have 42 classes\n",
    "    N=15\n",
    "    for c in range(0,N):\n",
    "        prefix = rootpath + '/' + format(c, '05d') + '/' # subdirectory for class\n",
    "        gtFile = open(prefix + 'GT-'+ format(c, '05d') + '.csv') # annotations file\n",
    "        gtReader = csv.reader(gtFile, delimiter=';') # csv parser for annotations file\n",
    "        #gtReader.next() # skip header\n",
    "        next(gtReader)\n",
    "        # loop over all images in current annotations file\n",
    "        for row in gtReader:\n",
    "            img=Image.open(prefix + row[0])  # the 1th column is the filename\n",
    "            # preprocesing image, make sure the images are in the same size\n",
    "            img=img.resize((32,32), Image.BICUBIC)\n",
    "            \n",
    "            img=np.array(img)\n",
    "            images.append(img) \n",
    "            labels.append(row[7]) # the 8th column is the label\n",
    "        gtFile.close()\n",
    "    return images, labels"
   ]
  },
  {
   "cell_type": "code",
   "execution_count": 216,
   "id": "e0fb12d2",
   "metadata": {},
   "outputs": [],
   "source": [
    "trainImage, trainLabels = readTrafficSigns(FOLDER_DIR)"
   ]
  },
  {
   "cell_type": "code",
   "execution_count": 217,
   "id": "72d49a1d",
   "metadata": {},
   "outputs": [
    {
     "data": {
      "text/plain": [
       "<matplotlib.image.AxesImage at 0x7f90e89a2130>"
      ]
     },
     "execution_count": 217,
     "metadata": {},
     "output_type": "execute_result"
    },
    {
     "data": {
      "image/png": "[encoded data removed]",
      "text/plain": [
       "<Figure size 432x288 with 1 Axes>"
      ]
     },
     "metadata": {
      "needs_background": "light"
     },
     "output_type": "display_data"
    }
   ],
   "source": [
    "plt.imshow(trainImage[15000])"
   ]
  },
  {
   "cell_type": "code",
   "execution_count": 218,
   "id": "845fe7db",
   "metadata": {},
   "outputs": [
    {
     "name": "stdout",
     "output_type": "stream",
     "text": [
      "the shape of trainImage is (15540, 32, 32, 3)\n",
      "below is the image after such preprocessing\n"
     ]
    }
   ],
   "source": [
    "print(f\"the shape of trainImage is {np.shape(trainImage)}\")\n",
    "print(\"below is the image after such preprocessing\")"
   ]
  },
  {
   "cell_type": "code",
   "execution_count": 219,
   "id": "98214791",
   "metadata": {},
   "outputs": [
    {
     "data": {
      "text/plain": [
       "array([[[172, 101, 106],\n",
       "        [158,  54,  59],\n",
       "        [158,  40,  35],\n",
       "        ...,\n",
       "        [159,  47,  33],\n",
       "        [154,  54,  38],\n",
       "        [150,  78,  75]],\n",
       "\n",
       "       [[160,  80,  79],\n",
       "        [153,  44,  39],\n",
       "        [160,  41,  35],\n",
       "        ...,\n",
       "        [157,  80,  66],\n",
       "        [152,  89,  77],\n",
       "        [134,  82,  75]],\n",
       "\n",
       "       [[131,  54,  47],\n",
       "        [145,  44,  33],\n",
       "        [152,  43,  36],\n",
       "        ...,\n",
       "        [162, 122, 115],\n",
       "        [150, 120, 116],\n",
       "        [132, 107, 103]],\n",
       "\n",
       "       ...,\n",
       "\n",
       "       [[ 91, 131, 151],\n",
       "        [ 99,  76,  87],\n",
       "        [149, 115, 118],\n",
       "        ...,\n",
       "        [222, 229, 224],\n",
       "        [183, 181, 126],\n",
       "        [206, 166, 136]],\n",
       "\n",
       "       [[148, 181, 200],\n",
       "        [104, 114, 137],\n",
       "        [134, 130, 122],\n",
       "        ...,\n",
       "        [206, 234, 230],\n",
       "        [133, 162, 119],\n",
       "        [143, 120,  85]],\n",
       "\n",
       "       [[255, 255, 255],\n",
       "        [234, 235, 242],\n",
       "        [238, 237, 230],\n",
       "        ...,\n",
       "        [190, 233, 232],\n",
       "        [ 59, 112, 104],\n",
       "        [ 94,  92,  84]]], dtype=uint8)"
      ]
     },
     "execution_count": 219,
     "metadata": {},
     "output_type": "execute_result"
    }
   ],
   "source": [
    "trainImage[50]"
   ]
  },
  {
   "cell_type": "markdown",
   "id": "11e0cf68",
   "metadata": {},
   "source": [
    "Read files with preprocessing of \n",
    "1) Resize\n",
    "2) Equalizer using CLAHE for contrast correction"
   ]
  },
  {
   "cell_type": "code",
   "execution_count": 220,
   "id": "4ef2f350",
   "metadata": {},
   "outputs": [],
   "source": [
    "import cv2 as cv\n",
    "from skimage import exposure\n",
    "\n",
    "def readTrafficSigns(rootpath):\n",
    "    '''Reads traffic sign data \n",
    "    Arguments: path to the traffic sign data, for example './TrafficSignData/Training'\n",
    "    Returns:   list of images, list of corresponding labels'''\n",
    "    images = [] # images\n",
    "    labels = [] # corresponding labels\n",
    "    # loop over N classes, at most we have 42 classes\n",
    "    N=15\n",
    "    for c in range(0,N):\n",
    "        prefix = rootpath + '/' + format(c, '05d') + '/' # subdirectory for class\n",
    "        gtFile = open(prefix + 'GT-'+ format(c, '05d') + '.csv') # annotations file\n",
    "        gtReader = csv.reader(gtFile, delimiter=';') # csv parser for annotations file\n",
    "        #gtReader.next() # skip header\n",
    "        next(gtReader)\n",
    "        # loop over all images in current annotations file\n",
    "        for row in gtReader:\n",
    "            img=Image.open(prefix + row[0])  # the 1th column is the filename\n",
    "            # preprocesing image, make sure the images are in the same size\n",
    "            img=img.resize((32,32), Image.BICUBIC)\n",
    "            \n",
    "            img=np.array(img)\n",
    "            img=exposure.equalize_adapthist(img,clip_limit=0.1)\n",
    "            images.append(img) \n",
    "            labels.append(row[7]) # the 8th column is the label\n",
    "        gtFile.close()\n",
    "    return images, labels\n",
    "\n"
   ]
  },
  {
   "cell_type": "code",
   "execution_count": 221,
   "id": "9db40126",
   "metadata": {},
   "outputs": [],
   "source": [
    "trainImage, trainLabels = readTrafficSigns(FOLDER_DIR)"
   ]
  },
  {
   "cell_type": "code",
   "execution_count": 222,
   "id": "0d3f763e",
   "metadata": {},
   "outputs": [
    {
     "name": "stdout",
     "output_type": "stream",
     "text": [
      "below is the image after such preprocessing\n"
     ]
    }
   ],
   "source": [
    "print(\"below is the image after such preprocessing\")"
   ]
  },
  {
   "cell_type": "code",
   "execution_count": 223,
   "id": "dbb7daa9",
   "metadata": {},
   "outputs": [
    {
     "data": {
      "text/plain": [
       "<matplotlib.image.AxesImage at 0x7f9109c67a30>"
      ]
     },
     "execution_count": 223,
     "metadata": {},
     "output_type": "execute_result"
    },
    {
     "data": {
      "image/png": "[encoded data removed]",
      "text/plain": [
       "<Figure size 432x288 with 1 Axes>"
      ]
     },
     "metadata": {
      "needs_background": "light"
     },
     "output_type": "display_data"
    }
   ],
   "source": [
    "plt.imshow(trainImage[50])"
   ]
  },
  {
   "cell_type": "code",
   "execution_count": 224,
   "id": "75432a20",
   "metadata": {},
   "outputs": [
    {
     "data": {
      "text/plain": [
       "array([[[0.93415638, 0.54854532, 0.57570102],\n",
       "        [0.60493827, 0.20675105, 0.22589467],\n",
       "        [0.60493827, 0.15314893, 0.13400531],\n",
       "        ...,\n",
       "        [0.7037037 , 0.20801304, 0.14605171],\n",
       "        [0.67078189, 0.23520924, 0.16551761],\n",
       "        [0.53909465, 0.28032922, 0.26954733]],\n",
       "\n",
       "       [[0.67078189, 0.33539095, 0.33119856],\n",
       "        [0.40740741, 0.11716291, 0.10384895],\n",
       "        [0.67078189, 0.17188786, 0.14673354],\n",
       "        ...,\n",
       "        [0.65432099, 0.33341197, 0.27506487],\n",
       "        [0.60493827, 0.35420728, 0.30644899],\n",
       "        [0.40740741, 0.24930901, 0.22802653]],\n",
       "\n",
       "       [[0.14403292, 0.05937235, 0.05167593],\n",
       "        [0.20987654, 0.06368668, 0.04776501],\n",
       "        [0.34156379, 0.0966266 , 0.08089669],\n",
       "        ...,\n",
       "        [0.81893004, 0.61672509, 0.58133923],\n",
       "        [0.53909465, 0.43127572, 0.41689986],\n",
       "        [0.34156379, 0.27687368, 0.26652326]],\n",
       "\n",
       "       ...,\n",
       "\n",
       "       [[0.40424604, 0.58193661, 0.67078189],\n",
       "        [0.30864198, 0.23693727, 0.27123083],\n",
       "        [0.60493827, 0.46689867, 0.47907863],\n",
       "        ...,\n",
       "        [0.65426708, 0.67489712, 0.66016137],\n",
       "        [0.48971193, 0.48435989, 0.33717871],\n",
       "        [0.57201646, 0.4609453 , 0.37764194]],\n",
       "\n",
       "       [[0.59382716, 0.72623457, 0.80246914],\n",
       "        [0.2592893 , 0.28422096, 0.34156379],\n",
       "        [0.27572016, 0.26748971, 0.25102881],\n",
       "        ...,\n",
       "        [0.64848229, 0.73662551, 0.72403363],\n",
       "        [0.28041965, 0.34156379, 0.25090179],\n",
       "        [0.27572016, 0.23137356, 0.16388961]],\n",
       "\n",
       "       [[1.        , 1.        , 1.        ],\n",
       "        [0.90327518, 0.90713533, 0.93415638],\n",
       "        [0.86831276, 0.86466438, 0.83912577],\n",
       "        ...,\n",
       "        [0.56041258, 0.6872428 , 0.68429326],\n",
       "        [0.11055996, 0.20987654, 0.19488536],\n",
       "        [0.0781893 , 0.0765257 , 0.06987129]]])"
      ]
     },
     "execution_count": 224,
     "metadata": {},
     "output_type": "execute_result"
    }
   ],
   "source": [
    "trainImage[50]"
   ]
  },
  {
   "cell_type": "markdown",
   "id": "8e327be1",
   "metadata": {},
   "source": [
    "Read files with preprocessing of \n",
    "1) Resize\n",
    "2) Equalizer using CLAHE for contrast correction\n",
    "3) convert into gray image"
   ]
  },
  {
   "cell_type": "code",
   "execution_count": 225,
   "id": "7d505ce3",
   "metadata": {},
   "outputs": [],
   "source": [
    "import cv2 as cv\n",
    "from skimage import exposure\n",
    "\n",
    "def readTrafficSigns(rootpath):\n",
    "    '''Reads traffic sign data \n",
    "    Arguments: path to the traffic sign data, for example './TrafficSignData/Training'\n",
    "    Returns:   list of images, list of corresponding labels'''\n",
    "    images = [] # images\n",
    "    labels = [] # corresponding labels\n",
    "    # loop over N classes, at most we have 42 classes\n",
    "    N=15\n",
    "    for c in range(0,N):\n",
    "        prefix = rootpath + '/' + format(c, '05d') + '/' # subdirectory for class\n",
    "        gtFile = open(prefix + 'GT-'+ format(c, '05d') + '.csv') # annotations file\n",
    "        gtReader = csv.reader(gtFile, delimiter=';') # csv parser for annotations file\n",
    "        #gtReader.next() # skip header\n",
    "        next(gtReader)\n",
    "        # loop over all images in current annotations file\n",
    "        for row in gtReader:\n",
    "            img=Image.open(prefix + row[0])  # the 1th column is the filename\n",
    "            # preprocesing image, make sure the images are in the same size\n",
    "            img=img.resize((32,32), Image.BICUBIC)\n",
    "            \n",
    "            img=np.array(img)\n",
    "            img = cv.cvtColor(img, cv.COLOR_BGR2GRAY)\n",
    "            img=exposure.equalize_adapthist(img,clip_limit=0.1)\n",
    "            images.append(img) \n",
    "            labels.append(row[7]) # the 8th column is the label\n",
    "        gtFile.close()\n",
    "    return images, labels\n"
   ]
  },
  {
   "cell_type": "code",
   "execution_count": 226,
   "id": "52194586",
   "metadata": {},
   "outputs": [],
   "source": [
    "trainImage, trainLabels = readTrafficSigns(FOLDER_DIR)"
   ]
  },
  {
   "cell_type": "code",
   "execution_count": 227,
   "id": "c17e226e",
   "metadata": {},
   "outputs": [
    {
     "name": "stdout",
     "output_type": "stream",
     "text": [
      "below is the image after such preprocessing\n"
     ]
    }
   ],
   "source": [
    "print(\"below is the image after such preprocessing\")"
   ]
  },
  {
   "cell_type": "code",
   "execution_count": 228,
   "id": "47260acc",
   "metadata": {},
   "outputs": [
    {
     "data": {
      "text/plain": [
       "<matplotlib.image.AxesImage at 0x7f9118e2b220>"
      ]
     },
     "execution_count": 228,
     "metadata": {},
     "output_type": "execute_result"
    },
    {
     "data": {
      "image/png": "[encoded data removed]",
      "text/plain": [
       "<Figure size 432x288 with 1 Axes>"
      ]
     },
     "metadata": {
      "needs_background": "light"
     },
     "output_type": "display_data"
    }
   ],
   "source": [
    "plt.imshow(trainImage[50])"
   ]
  },
  {
   "cell_type": "code",
   "execution_count": 229,
   "id": "38d34ba1",
   "metadata": {},
   "outputs": [
    {
     "data": {
      "text/plain": [
       "array([[0.93333333, 0.46666667, 0.06666667, ..., 0.13333333, 0.2       ,\n",
       "        0.46666667],\n",
       "       [0.6       , 0.26666667, 0.13333333, ..., 0.55      , 0.66666667,\n",
       "        0.53333333],\n",
       "       [0.33333333, 0.06666667, 0.13333333, ..., 0.88333333, 0.8       ,\n",
       "        0.73333333],\n",
       "       ...,\n",
       "       [0.66666667, 0.28333333, 0.5       , ..., 0.67083333, 0.43333333,\n",
       "        0.36666667],\n",
       "       [0.8       , 0.4       , 0.53333333, ..., 0.75      , 0.33333333,\n",
       "        0.2       ],\n",
       "       [1.        , 0.93333333, 0.86666667, ..., 0.7       , 0.13333333,\n",
       "        0.06666667]])"
      ]
     },
     "execution_count": 229,
     "metadata": {},
     "output_type": "execute_result"
    }
   ],
   "source": [
    "trainImage[50]"
   ]
  },
  {
   "cell_type": "code",
   "execution_count": 230,
   "id": "0514bcec",
   "metadata": {},
   "outputs": [
    {
     "name": "stdout",
     "output_type": "stream",
     "text": [
      "Total data is 15540\n"
     ]
    }
   ],
   "source": [
    "print(f\"Total data is {len(trainImage)}\")"
   ]
  },
  {
   "cell_type": "code",
   "execution_count": 231,
   "id": "42b2c05f",
   "metadata": {},
   "outputs": [
    {
     "name": "stdout",
     "output_type": "stream",
     "text": [
      "the shape of trainImage is (15540, 32, 32)\n"
     ]
    }
   ],
   "source": [
    "print(f\"the shape of trainImage is {np.shape(trainImage)}\")"
   ]
  },
  {
   "cell_type": "markdown",
   "id": "105c7fbc",
   "metadata": {},
   "source": [
    "Split data into training & validation"
   ]
  },
  {
   "cell_type": "code",
   "execution_count": 232,
   "id": "33e82a7f",
   "metadata": {},
   "outputs": [],
   "source": [
    "from sklearn.model_selection import train_test_split\n",
    "\n",
    "TEST_SIZE = 0.10\n",
    "\n",
    "def loadData():\n",
    "    trainImages, trainLabels = readTrafficSigns(FOLDER_DIR)\n",
    "    print('number of historical data=', len(trainLabels))\n",
    "    # design the input and output for model\n",
    "    X=[]\n",
    "    Y=[]\n",
    "    for i in range(0,len(trainLabels)):\n",
    "        # input X just the flattern image\n",
    "        X.append(trainImages[i].flatten())\n",
    "        Y.append(int(trainLabels[i]))\n",
    "    X=np.array(X)\n",
    "    Y=np.array(Y)\n",
    "    print(f\"shape of X : {np.shape(X)}\")\n",
    "    X_train, X_val, y_train, y_val = train_test_split(X,Y, test_size=TEST_SIZE)\n",
    "    print(f\"shape of X_train : {np.shape(X_train)}\")\n",
    "    print(f\"length of training data : {len(X_train)}.\")\n",
    "    print(f\"length of testing data : {len(X_val)}.\")\n",
    "    return X_train, X_val, y_train, y_val"
   ]
  },
  {
   "cell_type": "code",
   "execution_count": 233,
   "id": "6109c21e",
   "metadata": {},
   "outputs": [
    {
     "name": "stdout",
     "output_type": "stream",
     "text": [
      "number of historical data= 15540\n",
      "shape of X : (15540, 1024)\n",
      "shape of X_train : (13986, 1024)\n",
      "length of training data : 13986.\n",
      "length of testing data : 1554.\n"
     ]
    }
   ],
   "source": [
    "X_train, X_val, y_train, y_val = loadData()"
   ]
  },
  {
   "cell_type": "markdown",
   "id": "39b9d01d",
   "metadata": {},
   "source": [
    "Define Classifier, here we are using :\n",
    "1) Random Forest\n",
    "2) SVM\n",
    "3) Neural Network"
   ]
  },
  {
   "cell_type": "markdown",
   "id": "c1e5fb2b",
   "metadata": {},
   "source": [
    "(1) Random Forest"
   ]
  },
  {
   "cell_type": "code",
   "execution_count": 234,
   "id": "5b5c8e84",
   "metadata": {},
   "outputs": [
    {
     "name": "stdout",
     "output_type": "stream",
     "text": [
      "RandomForestClassifier, training accuracy: 0.999, validation accuracy: 0.903\n",
      "Fitting Duration (seconds) :2.28s\n",
      "Confusion Matrix :\n",
      "[[ 10   0   0   0   4   0   0   0   0   0   0   0   0   0   0]\n",
      " [  0 143   3   1   5   2   0   0   0   0   0   0   0   1   1]\n",
      " [  0  10 135   2   1   6   0   0   1   0   0   1   0   0   0]\n",
      " [  0   1   9  66   0  10   0   0   0   0   0   0   1   0   0]\n",
      " [  0   6   3   0 120   2   0   1   0   0   0   0   0   0   0]\n",
      " [  0   5   6   5   2  92   0   1   1   1   1   0   0   0   0]\n",
      " [  0   1   1   0   0   0  30   0   0   0   0   0   0   0   0]\n",
      " [  0   4   3   0   3   2   0  76   2   1   0   0   1   0   0]\n",
      " [  0   3   1   0   2   4   0   4  84   0   0   0   0   0   0]\n",
      " [  0   0   1   0   1   3   0   0   0  86   0   0   0   0   0]\n",
      " [  0   0   0   0   1   3   0   1   0   0 127   0   0   0   0]\n",
      " [  0   0   0   0   0   0   0   0   1   0   0  93   0   0   0]\n",
      " [  0   2   0   0   1   0   0   0   0   2   2   0 137   0   0]\n",
      " [  0   0   0   1   0   1   0   1   1   0   1   0   1 143   0]\n",
      " [  0   0   0   0   0   0   0   0   0   0   1   0   0   0  62]]\n"
     ]
    }
   ],
   "source": [
    "from sklearn.ensemble import RandomForestClassifier\n",
    "from sklearn.metrics import confusion_matrix\n",
    "import time\n",
    "\n",
    "randomForest = RandomForestClassifier(n_estimators=10, random_state=0)\n",
    "start_time = time.time()\n",
    "randomForest = randomForest.fit(X_train, y_train)\n",
    "end_time = time.time()\n",
    "duration = end_time - start_time\n",
    "model_confusion_matrix = confusion_matrix(y_val,randomForest.predict(X_val))\n",
    "\n",
    "print(\"RandomForestClassifier, training accuracy: %.3f, validation accuracy: %.3f\" % (\n",
    "    randomForest.score(X_train, y_train), randomForest.score(X_val, y_val)))\n",
    "print(f\"Fitting Duration (seconds) :{duration:.2f}s\")\n",
    "print(f\"Confusion Matrix :\")\n",
    "print(model_confusion_matrix)"
   ]
  },
  {
   "cell_type": "code",
   "execution_count": 235,
   "id": "6ab3607c",
   "metadata": {},
   "outputs": [
    {
     "data": {
      "image/png": "[encoded data removed]",
      "text/plain": [
       "<Figure size 600x400 with 1 Axes>"
      ]
     },
     "metadata": {
      "needs_background": "light"
     },
     "output_type": "display_data"
    }
   ],
   "source": [
    "import matplotlib.pyplot as plt\n",
    "\n",
    "# Range of `n_estimators` values to explore.\n",
    "min_estimators = 1\n",
    "max_estimators = 150\n",
    "train_scores = []\n",
    "val_scores = []\n",
    "\n",
    "randomForest = RandomForestClassifier(n_estimators=1, random_state=0)\n",
    "for i in range(min_estimators, max_estimators + 1, 5):\n",
    "        randomForest.set_params(n_estimators=i)\n",
    "        randomForest.fit(X_train, y_train)\n",
    "        train_scores.append(randomForest.score(X_train, y_train))\n",
    "        val_scores.append(randomForest.score(X_val, y_val))\n",
    "\n",
    "fig, ax = plt.subplots(dpi = 100)\n",
    "ax.set_xlabel(\"estimators\")\n",
    "ax.set_ylabel(\"accuracy\")\n",
    "ax.set_title(\"Accuracy vs estimators for training and testing sets\")\n",
    "ax.plot(range(min_estimators, max_estimators + 1, 5), train_scores, label=\"train\",\n",
    "        drawstyle=\"steps-post\")\n",
    "ax.plot(range(min_estimators, max_estimators + 1, 5), val_scores, label=\"validation\",\n",
    "        drawstyle=\"steps-post\")\n",
    "ax.legend()\n",
    "plt.show()"
   ]
  },
  {
   "cell_type": "code",
   "execution_count": 236,
   "id": "0d02c44e",
   "metadata": {},
   "outputs": [
    {
     "name": "stderr",
     "output_type": "stream",
     "text": [
      "/Users/kaiyuan/opt/anaconda3/lib/python3.9/site-packages/sklearn/ensemble/_forest.py:560: UserWarning: Some inputs do not have OOB scores. This probably means too few trees were used to compute any reliable OOB estimates.\n",
      "  warn(\n",
      "/Users/kaiyuan/opt/anaconda3/lib/python3.9/site-packages/sklearn/ensemble/_forest.py:560: UserWarning: Some inputs do not have OOB scores. This probably means too few trees were used to compute any reliable OOB estimates.\n",
      "  warn(\n",
      "/Users/kaiyuan/opt/anaconda3/lib/python3.9/site-packages/sklearn/ensemble/_forest.py:560: UserWarning: Some inputs do not have OOB scores. This probably means too few trees were used to compute any reliable OOB estimates.\n",
      "  warn(\n"
     ]
    },
    {
     "data": {
      "image/png": "[encoded data removed]",
      "text/plain": [
       "<Figure size 600x400 with 1 Axes>"
      ]
     },
     "metadata": {
      "needs_background": "light"
     },
     "output_type": "display_data"
    }
   ],
   "source": [
    "import matplotlib.pyplot as plt\n",
    "\n",
    "from collections import OrderedDict\n",
    "from sklearn.ensemble import RandomForestClassifier\n",
    "\n",
    "RANDOM_STATE = 123\n",
    "\n",
    "\n",
    "# NOTE: Setting the `warm_start` construction parameter to `True` disables\n",
    "# support for parallelized ensembles but is necessary for tracking the OOB\n",
    "# error trajectory during training.\n",
    "ensemble_clfs = [\n",
    "    (\"RandomForestClassifier, max_features='sqrt'\",\n",
    "        RandomForestClassifier(warm_start=True, oob_score=True,\n",
    "                               max_features=\"sqrt\",\n",
    "                               random_state=RANDOM_STATE)),\n",
    "    (\"RandomForestClassifier, max_features='log2'\",\n",
    "        RandomForestClassifier(warm_start=True, max_features='log2',\n",
    "                               oob_score=True,\n",
    "                               random_state=RANDOM_STATE)),\n",
    "    (\"RandomForestClassifier, max_features=None\",\n",
    "        RandomForestClassifier(warm_start=True, max_features=None,\n",
    "                               oob_score=True,\n",
    "                               random_state=RANDOM_STATE))\n",
    "]\n",
    "\n",
    "# Map a classifier name to a list of (<n_estimators>, <error rate>) pairs.\n",
    "error_rate = OrderedDict((label, []) for label, _ in ensemble_clfs)\n",
    "\n",
    "# Range of `n_estimators` values to explore.\n",
    "min_estimators = 20\n",
    "max_estimators = 150\n",
    "\n",
    "for label, clf in ensemble_clfs:\n",
    "    for i in range(min_estimators, max_estimators + 1):\n",
    "        clf.set_params(n_estimators=i)\n",
    "        clf.fit(X_train, y_train)\n",
    "\n",
    "        # Record the OOB error for each `n_estimators=i` setting.\n",
    "        oob_error = 1 - clf.oob_score_\n",
    "        error_rate[label].append((i, oob_error))\n",
    "\n",
    "plt.figure(dpi=100)\n",
    "# Generate the \"OOB error rate\" vs. \"n_estimators\" plot.\n",
    "for label, clf_err in error_rate.items():\n",
    "    xs, ys = zip(*clf_err)\n",
    "    plt.plot(xs, ys, label=label)\n",
    "\n",
    "plt.xlim(min_estimators, max_estimators)\n",
    "plt.xlabel(\"n_estimators\")\n",
    "plt.ylabel(\"OOB error rate\")\n",
    "plt.legend(loc=\"upper right\")\n",
    "plt.show()"
   ]
  },
  {
   "cell_type": "code",
   "execution_count": 237,
   "id": "ee9a2cb6",
   "metadata": {},
   "outputs": [
    {
     "name": "stdout",
     "output_type": "stream",
     "text": [
      "RandomForestClassifier, training accuracy: 1.000, validation accuracy: 0.958\n",
      "Fitting Duration (seconds) :7.36s\n",
      "Confusion Matrix :\n",
      "[[ 12   2   0   0   0   0   0   0   0   0   0   0   0   0   0]\n",
      " [  0 148   4   1   3   0   0   0   0   0   0   0   0   0   0]\n",
      " [  0   4 144   2   1   3   0   0   0   1   0   1   0   0   0]\n",
      " [  0   0   6  74   0   3   0   0   3   0   0   0   1   0   0]\n",
      " [  0   2   1   0 129   0   0   0   0   0   0   0   0   0   0]\n",
      " [  0   1   1   3   0 108   0   0   0   0   0   0   0   1   0]\n",
      " [  0   0   0   0   0   0  32   0   0   0   0   0   0   0   0]\n",
      " [  0   0   1   0   1   1   0  86   1   1   0   0   1   0   0]\n",
      " [  0   0   0   0   0   1   0   2  95   0   0   0   0   0   0]\n",
      " [  0   0   1   0   0   1   0   0   0  89   0   0   0   0   0]\n",
      " [  0   0   0   0   0   2   0   0   0   0 130   0   0   0   0]\n",
      " [  0   0   0   0   0   0   0   0   0   0   0  94   0   0   0]\n",
      " [  0   0   2   0   0   0   0   0   0   1   0   0 141   0   0]\n",
      " [  0   0   0   0   0   2   0   0   0   0   0   0   2 144   1]\n",
      " [  0   0   0   0   0   1   0   0   0   0   0   0   0   0  62]]\n",
      "Cross-Validation-Scores: [0.94996426 0.94672864 0.95137647 0.94565606 0.95066142]\n",
      "MAX Cross-Validation-Score: 0.9513764747944226\n",
      "MIN Cross-Validation-Score: 0.9456560600643547\n",
      "Cross-Validation-Accuracy: 0.948877 (+/- 0.00)\n"
     ]
    }
   ],
   "source": [
    "# with BEST performance parameter\n",
    "\n",
    "randomForest = RandomForestClassifier(n_estimators=40, random_state=0,max_features = \"sqrt\")\n",
    "start_time = time.time()\n",
    "randomForest = randomForest.fit(X_train, y_train)\n",
    "end_time = time.time()\n",
    "\n",
    "duration = end_time - start_time\n",
    "\n",
    "model_confusion_matrix = confusion_matrix(y_val,randomForest.predict(X_val))\n",
    " \n",
    "print(\"RandomForestClassifier, training accuracy: %.3f, validation accuracy: %.3f\" % (\n",
    "    randomForest.score(X_train, y_train), randomForest.score(X_val, y_val)))\n",
    "print(f\"Fitting Duration (seconds) :{duration:.2f}s\")\n",
    "print(f\"Confusion Matrix :\")\n",
    "print(model_confusion_matrix)\n",
    "\n",
    "cv_scores = cross_val_score(randomForest, X_train, y_train, cv=5)\n",
    "print(\"Cross-Validation-Scores: \"+str(cv_scores))\n",
    "print(\"MAX Cross-Validation-Score: \"+str(max(cv_scores)))\n",
    "print(\"MIN Cross-Validation-Score: \"+str(min(cv_scores)))\n",
    "print(\"Cross-Validation-Accuracy: %.6f (+/- %0.2f)\" % (cv_scores.mean(), cv_scores.std() * 2))"
   ]
  },
  {
   "cell_type": "markdown",
   "id": "2360ec9b",
   "metadata": {},
   "source": [
    "(2) SVM"
   ]
  },
  {
   "cell_type": "code",
   "execution_count": 238,
   "id": "9234ace5",
   "metadata": {},
   "outputs": [
    {
     "name": "stdout",
     "output_type": "stream",
     "text": [
      "SVM, training accuracy: 1.000, validation accuracy: 0.955\n",
      "Fitting Duration (seconds) :18.8325s\n",
      "Confusion Matrix :\n",
      "[[ 14   0   0   0   0   0   0   0   0   0   0   0   0   0   0]\n",
      " [  0 149   5   0   1   0   0   0   1   0   0   0   0   0   0]\n",
      " [  0  13 130   3   1   7   0   1   0   0   0   0   1   0   0]\n",
      " [  0   0   2  77   0   6   0   0   0   1   0   0   1   0   0]\n",
      " [  0   1   1   0 129   0   0   1   0   0   0   0   0   0   0]\n",
      " [  0   1   4   1   0 106   0   0   0   0   2   0   0   0   0]\n",
      " [  0   0   0   0   0   0  32   0   0   0   0   0   0   0   0]\n",
      " [  0   0   3   0   0   1   0  88   0   0   0   0   0   0   0]\n",
      " [  0   0   1   0   0   3   0   1  93   0   0   0   0   0   0]\n",
      " [  0   0   1   0   0   0   0   0   0  88   0   0   1   1   0]\n",
      " [  0   0   0   0   0   0   0   0   0   0 132   0   0   0   0]\n",
      " [  0   0   0   0   0   0   0   0   0   0   0  94   0   0   0]\n",
      " [  0   0   0   0   0   1   0   0   0   1   0   0 142   0   0]\n",
      " [  0   0   0   1   0   0   0   0   0   0   0   1   0 147   0]\n",
      " [  0   0   0   0   0   0   0   0   0   0   0   0   0   0  63]]\n"
     ]
    }
   ],
   "source": [
    "from sklearn import svm\n",
    "clf = svm.SVC(kernel=\"linear\")\n",
    "start_time = time.time()\n",
    "\n",
    "clf.fit(X_train,y_train)\n",
    "end_time = time.time()\n",
    "\n",
    "duration = end_time - start_time\n",
    "score = clf.score(X_val,y_val)\n",
    "model_confusion_matrix = confusion_matrix(y_val,clf.predict(X_val))\n",
    "\n",
    "\n",
    "print(\"SVM, training accuracy: %.3f, validation accuracy: %.3f\" % (\n",
    "    clf.score(X_train, y_train), clf.score(X_val, y_val)))\n",
    "print(f\"Fitting Duration (seconds) :{duration:.4f}s\")\n",
    "print(f\"Confusion Matrix :\")\n",
    "print(model_confusion_matrix)\n",
    "\n"
   ]
  },
  {
   "cell_type": "code",
   "execution_count": 239,
   "id": "491e4175",
   "metadata": {},
   "outputs": [
    {
     "name": "stdout",
     "output_type": "stream",
     "text": [
      "SVM, training accuracy: 1.000, validation accuracy: 0.967\n",
      "Fitting Duration (seconds) :21.3598s\n",
      "Confusion Matrix :\n",
      "[[ 14   0   0   0   0   0   0   0   0   0   0   0   0   0   0]\n",
      " [  1 147   6   0   1   0   0   1   0   0   0   0   0   0   0]\n",
      " [  0   7 144   1   0   2   0   1   0   0   0   0   1   0   0]\n",
      " [  0   0   1  82   0   2   0   0   0   0   1   0   1   0   0]\n",
      " [  0   2   1   0 128   0   0   1   0   0   0   0   0   0   0]\n",
      " [  0   2   3   1   0 107   0   0   0   0   1   0   0   0   0]\n",
      " [  0   0   0   0   0   0  32   0   0   0   0   0   0   0   0]\n",
      " [  0   2   1   1   0   0   0  88   0   0   0   0   0   0   0]\n",
      " [  0   0   0   0   0   3   0   1  94   0   0   0   0   0   0]\n",
      " [  0   0   0   0   0   0   0   0   0  89   1   0   0   1   0]\n",
      " [  0   0   0   0   0   0   0   0   0   0 132   0   0   0   0]\n",
      " [  0   0   0   0   0   0   0   0   0   0   0  94   0   0   0]\n",
      " [  0   0   0   0   0   1   0   0   0   2   0   0 141   0   0]\n",
      " [  0   0   0   0   0   1   0   0   0   0   0   0   0 148   0]\n",
      " [  0   0   0   0   0   0   0   0   0   0   0   0   0   0  63]]\n"
     ]
    }
   ],
   "source": [
    "from sklearn import svm\n",
    "clf = svm.SVC(kernel=\"poly\")\n",
    "start_time = time.time()\n",
    "\n",
    "clf.fit(X_train,y_train)\n",
    "end_time = time.time()\n",
    "\n",
    "duration = end_time - start_time\n",
    "score = clf.score(X_val,y_val)\n",
    "model_confusion_matrix = confusion_matrix(y_val,clf.predict(X_val))\n",
    "\n",
    "print(\"SVM, training accuracy: %.3f, validation accuracy: %.3f\" % (\n",
    "    clf.score(X_train, y_train), clf.score(X_val, y_val)))\n",
    "print(f\"Fitting Duration (seconds) :{duration:.4f}s\")\n",
    "print(f\"Confusion Matrix :\")\n",
    "print(model_confusion_matrix)\n"
   ]
  },
  {
   "cell_type": "code",
   "execution_count": 240,
   "id": "b8c97090",
   "metadata": {},
   "outputs": [
    {
     "name": "stdout",
     "output_type": "stream",
     "text": [
      "SVM, training accuracy: 0.996, validation accuracy: 0.976\n",
      "Fitting Duration (seconds) :51.1473s\n",
      "Confusion Matrix :\n",
      "[[ 14   0   0   0   0   0   0   0   0   0   0   0   0   0   0]\n",
      " [  0 150   5   0   1   0   0   0   0   0   0   0   0   0   0]\n",
      " [  0   1 152   0   0   3   0   0   0   0   0   0   0   0   0]\n",
      " [  0   1   2  78   0   3   0   0   1   0   1   0   1   0   0]\n",
      " [  0   0   2   0 130   0   0   0   0   0   0   0   0   0   0]\n",
      " [  0   2   3   0   0 109   0   0   0   0   0   0   0   0   0]\n",
      " [  0   0   0   0   0   0  32   0   0   0   0   0   0   0   0]\n",
      " [  0   0   1   0   1   0   0  90   0   0   0   0   0   0   0]\n",
      " [  0   0   1   1   1   3   0   0  92   0   0   0   0   0   0]\n",
      " [  0   0   0   0   0   0   0   1   0  90   0   0   0   0   0]\n",
      " [  0   0   0   0   0   0   0   0   0   0 132   0   0   0   0]\n",
      " [  0   0   0   0   0   0   0   0   0   0   0  94   0   0   0]\n",
      " [  0   0   1   0   0   1   0   0   0   0   0   0 142   0   0]\n",
      " [  0   0   0   0   0   1   0   0   0   0   0   0   0 148   0]\n",
      " [  0   0   0   0   0   0   0   0   0   0   0   0   0   0  63]]\n"
     ]
    }
   ],
   "source": [
    "from sklearn import svm\n",
    "clf = svm.SVC(kernel=\"rbf\")\n",
    "start_time = time.time()\n",
    "\n",
    "clf.fit(X_train,y_train)\n",
    "end_time = time.time()\n",
    "\n",
    "duration = end_time - start_time\n",
    "score = clf.score(X_val,y_val)\n",
    "model_confusion_matrix = confusion_matrix(y_val,clf.predict(X_val))\n",
    "\n",
    "print(\"SVM, training accuracy: %.3f, validation accuracy: %.3f\" % (\n",
    "    clf.score(X_train, y_train), clf.score(X_val, y_val)))\n",
    "print(f\"Fitting Duration (seconds) :{duration:.4f}s\")\n",
    "print(f\"Confusion Matrix :\")\n",
    "print(model_confusion_matrix)\n",
    "\n"
   ]
  },
  {
   "cell_type": "code",
   "execution_count": 241,
   "id": "212966dd",
   "metadata": {},
   "outputs": [
    {
     "name": "stdout",
     "output_type": "stream",
     "text": [
      "SVM, training accuracy: 1.000, validation accuracy: 0.990\n",
      "Fitting Duration (seconds) :49.3108s\n",
      "Confusion Matrix :\n",
      "[[ 14   0   0   0   0   0   0   0   0   0   0   0   0   0   0]\n",
      " [  0 153   3   0   0   0   0   0   0   0   0   0   0   0   0]\n",
      " [  0   1 155   0   0   0   0   0   0   0   0   0   0   0   0]\n",
      " [  0   0   1  85   0   0   0   0   0   0   1   0   0   0   0]\n",
      " [  0   0   0   0 132   0   0   0   0   0   0   0   0   0   0]\n",
      " [  0   1   2   0   0 111   0   0   0   0   0   0   0   0   0]\n",
      " [  0   0   0   0   0   0  32   0   0   0   0   0   0   0   0]\n",
      " [  0   0   1   0   0   0   0  91   0   0   0   0   0   0   0]\n",
      " [  0   0   0   0   1   2   0   0  95   0   0   0   0   0   0]\n",
      " [  0   0   0   0   0   0   0   1   0  90   0   0   0   0   0]\n",
      " [  0   0   0   0   0   0   0   0   0   0 132   0   0   0   0]\n",
      " [  0   0   0   0   0   0   0   0   0   0   0  94   0   0   0]\n",
      " [  0   0   0   0   0   1   0   0   0   0   0   0 143   0   0]\n",
      " [  0   0   0   0   0   1   0   0   0   0   0   0   0 148   0]\n",
      " [  0   0   0   0   0   0   0   0   0   0   0   0   0   0  63]]\n",
      "Cross-Validation-Scores: [0.98248749 0.97854844 0.9821237  0.97962102 0.97819092]\n",
      "MAX Cross-Validation-Score: 0.9824874910650465\n",
      "MIN Cross-Validation-Score: 0.978190918841616\n",
      "Cross-Validation-Accuracy: 0.980194 (+/- 0.00)\n"
     ]
    }
   ],
   "source": [
    "# with BEST performance parameter\n",
    "from sklearn import svm\n",
    "clf = svm.SVC(kernel=\"rbf\", C=10.5)\n",
    "start_time = time.time()\n",
    "\n",
    "clf.fit(X_train,y_train)\n",
    "end_time = time.time()\n",
    "\n",
    "duration = end_time - start_time\n",
    "score = clf.score(X_val,y_val)\n",
    "model_confusion_matrix = confusion_matrix(y_val,clf.predict(X_val))\n",
    "\n",
    "print(\"SVM, training accuracy: %.3f, validation accuracy: %.3f\" % (\n",
    "    clf.score(X_train, y_train), clf.score(X_val, y_val)))\n",
    "print(f\"Fitting Duration (seconds) :{duration:.4f}s\")\n",
    "print(f\"Confusion Matrix :\")\n",
    "print(model_confusion_matrix)\n",
    "\n",
    "\n",
    "cv_scores = cross_val_score(clf, X_train, y_train, cv=5)\n",
    "print(\"Cross-Validation-Scores: \"+str(cv_scores))\n",
    "print(\"MAX Cross-Validation-Score: \"+str(max(cv_scores)))\n",
    "print(\"MIN Cross-Validation-Score: \"+str(min(cv_scores)))\n",
    "print(\"Cross-Validation-Accuracy: %.6f (+/- %0.2f)\" % (cv_scores.mean(), cv_scores.std() * 2))\n"
   ]
  },
  {
   "cell_type": "markdown",
   "id": "934108cb",
   "metadata": {},
   "source": [
    "(3) Neural Network (MLP Classifiers)"
   ]
  },
  {
   "cell_type": "code",
   "execution_count": 242,
   "id": "17049e80",
   "metadata": {},
   "outputs": [
    {
     "name": "stdout",
     "output_type": "stream",
     "text": [
      "MLP, training accuracy: 1.000, validation accuracy: 0.934\n",
      "Fitting Duration (seconds) :29.7162s\n",
      "Confusion Matrix :\n",
      "[[ 13   0   0   0   1   0   0   0   0   0   0   0   0   0   0]\n",
      " [  1 141  10   0   1   1   0   0   2   0   0   0   0   0   0]\n",
      " [  0   8 132   3   0   8   0   2   0   0   1   0   2   0   0]\n",
      " [  0   1   1  79   0   4   0   0   0   0   0   0   2   0   0]\n",
      " [  0   4   1   0 124   2   0   0   1   0   0   0   0   0   0]\n",
      " [  0   1   0   3   1 107   0   0   0   0   1   0   0   1   0]\n",
      " [  0   0   0   0   0   0  32   0   0   0   0   0   0   0   0]\n",
      " [  0   2   0   0   0   1   0  86   1   1   1   0   0   0   0]\n",
      " [  0   0   2   0   2   1   0   1  90   0   1   0   1   0   0]\n",
      " [  0   0   1   0   0   2   0   1   0  85   1   0   1   0   0]\n",
      " [  0   0   0   0   0   2   0   1   1   0 127   0   1   0   0]\n",
      " [  0   0   0   0   0   0   0   0   0   0   0  94   0   0   0]\n",
      " [  0   0   1   1   0   1   0   1   1   2   0   1 136   0   0]\n",
      " [  0   0   0   1   0   0   0   0   2   0   1   2   0 143   0]\n",
      " [  0   0   0   0   1   0   0   0   0   0   0   0   0   0  62]]\n"
     ]
    },
    {
     "name": "stderr",
     "output_type": "stream",
     "text": [
      "/Users/kaiyuan/opt/anaconda3/lib/python3.9/site-packages/sklearn/neural_network/_multilayer_perceptron.py:692: ConvergenceWarning: Stochastic Optimizer: Maximum iterations (200) reached and the optimization hasn't converged yet.\n",
      "  warnings.warn(\n"
     ]
    }
   ],
   "source": [
    "from sklearn.neural_network import MLPClassifier\n",
    "clf = MLPClassifier(solver='adam', alpha=1e-5,\n",
    "                    hidden_layer_sizes=(50,), random_state=0)\n",
    "\n",
    "start_time = time.time()\n",
    "\n",
    "clf.fit(X_train,y_train)\n",
    "end_time = time.time()\n",
    "\n",
    "duration = end_time - start_time\n",
    "score = clf.score(X_val,y_val)\n",
    "model_confusion_matrix = confusion_matrix(y_val,clf.predict(X_val))\n",
    "\n",
    "print(\"MLP, training accuracy: %.3f, validation accuracy: %.3f\" % (\n",
    "    clf.score(X_train, y_train), clf.score(X_val, y_val)))\n",
    "print(f\"Fitting Duration (seconds) :{duration:.4f}s\")\n",
    "print(f\"Confusion Matrix :\")\n",
    "print(model_confusion_matrix)\n"
   ]
  },
  {
   "cell_type": "code",
   "execution_count": 243,
   "id": "782323ed",
   "metadata": {},
   "outputs": [
    {
     "name": "stdout",
     "output_type": "stream",
     "text": [
      "MLP, training accuracy: 0.991, validation accuracy: 0.941\n",
      "Fitting Duration (seconds) :11.5913s\n",
      "Confusion Matrix :\n",
      "[[ 13   1   0   0   0   0   0   0   0   0   0   0   0   0   0]\n",
      " [  0 142  11   0   2   1   0   0   0   0   0   0   0   0   0]\n",
      " [  0   4 133   1   3   6   0   5   0   1   0   1   2   0   0]\n",
      " [  0   1   3  75   1   5   0   0   0   0   1   0   1   0   0]\n",
      " [  0   2   1   0 126   3   0   0   0   0   0   0   0   0   0]\n",
      " [  0   0   1   1   1 109   0   0   0   0   0   0   0   2   0]\n",
      " [  0   0   0   0   0   0  32   0   0   0   0   0   0   0   0]\n",
      " [  0   0   0   0   1   2   0  87   1   1   0   0   0   0   0]\n",
      " [  0   0   0   1   1   0   0   3  90   1   1   0   1   0   0]\n",
      " [  0   0   1   0   0   1   0   0   0  88   0   0   1   0   0]\n",
      " [  0   0   0   0   0   2   0   1   0   0 128   0   1   0   0]\n",
      " [  0   0   0   0   0   0   0   0   0   0   0  94   0   0   0]\n",
      " [  0   0   1   0   0   1   1   1   0   1   0   1 138   0   0]\n",
      " [  0   0   0   0   0   1   0   0   1   0   1   1   0 145   0]\n",
      " [  0   0   0   0   1   0   0   0   0   0   0   0   0   0  62]]\n"
     ]
    },
    {
     "name": "stderr",
     "output_type": "stream",
     "text": [
      "/Users/kaiyuan/opt/anaconda3/lib/python3.9/site-packages/sklearn/neural_network/_multilayer_perceptron.py:549: ConvergenceWarning: lbfgs failed to converge (status=1):\n",
      "STOP: TOTAL NO. of ITERATIONS REACHED LIMIT.\n",
      "\n",
      "Increase the number of iterations (max_iter) or scale the data as shown in:\n",
      "    https://scikit-learn.org/stable/modules/preprocessing.html\n",
      "  self.n_iter_ = _check_optimize_result(\"lbfgs\", opt_res, self.max_iter)\n"
     ]
    }
   ],
   "source": [
    "from sklearn.neural_network import MLPClassifier\n",
    "clf = MLPClassifier(solver='lbfgs', alpha=1e-5,\n",
    "                    hidden_layer_sizes=(50,), random_state=0)\n",
    "\n",
    "start_time = time.time()\n",
    "\n",
    "clf.fit(X_train,y_train)\n",
    "end_time = time.time()\n",
    "\n",
    "duration = end_time - start_time\n",
    "score = clf.score(X_val,y_val)\n",
    "model_confusion_matrix = confusion_matrix(y_val,clf.predict(X_val))\n",
    "\n",
    "print(\"MLP, training accuracy: %.3f, validation accuracy: %.3f\" % (\n",
    "    clf.score(X_train, y_train), clf.score(X_val, y_val)))\n",
    "print(f\"Fitting Duration (seconds) :{duration:.4f}s\")\n",
    "print(f\"Confusion Matrix :\")\n",
    "print(model_confusion_matrix)\n",
    "\n"
   ]
  },
  {
   "cell_type": "code",
   "execution_count": 244,
   "id": "0f14b47c",
   "metadata": {},
   "outputs": [
    {
     "name": "stdout",
     "output_type": "stream",
     "text": [
      "MLP, training accuracy: 0.966, validation accuracy: 0.938\n",
      "Fitting Duration (seconds) :28.2430s\n",
      "Confusion Matrix :\n",
      "[[ 11   2   0   0   1   0   0   0   0   0   0   0   0   0   0]\n",
      " [  0 140  10   1   2   2   0   0   1   0   0   0   0   0   0]\n",
      " [  0   9 134   3   1   5   0   2   0   0   0   0   2   0   0]\n",
      " [  0   0   3  77   0   4   0   1   0   0   1   0   1   0   0]\n",
      " [  0   1   2   0 128   0   0   0   1   0   0   0   0   0   0]\n",
      " [  0   0   1   0   1 111   0   0   0   0   0   0   0   1   0]\n",
      " [  0   0   0   0   0   1  31   0   0   0   0   0   0   0   0]\n",
      " [  0   1   0   0   1   1   0  87   0   2   0   0   0   0   0]\n",
      " [  0   0   3   2   2   2   0   2  87   0   0   0   0   0   0]\n",
      " [  0   0   1   0   0   0   0   0   0  90   0   0   0   0   0]\n",
      " [  0   0   0   0   0   6   0   0   1   0 124   0   1   0   0]\n",
      " [  0   0   0   0   0   0   0   0   0   0   0  94   0   0   0]\n",
      " [  0   0   1   1   0   1   0   0   0   1   0   1 138   1   0]\n",
      " [  0   0   0   1   0   0   0   1   0   0   1   2   0 144   0]\n",
      " [  0   0   0   0   1   0   0   0   0   0   0   0   0   0  62]]\n"
     ]
    },
    {
     "name": "stderr",
     "output_type": "stream",
     "text": [
      "/Users/kaiyuan/opt/anaconda3/lib/python3.9/site-packages/sklearn/neural_network/_multilayer_perceptron.py:692: ConvergenceWarning: Stochastic Optimizer: Maximum iterations (200) reached and the optimization hasn't converged yet.\n",
      "  warnings.warn(\n"
     ]
    }
   ],
   "source": [
    "from sklearn.neural_network import MLPClassifier\n",
    "clf = MLPClassifier(solver='sgd', alpha=1e-5,\n",
    "                    hidden_layer_sizes=(50,), random_state=0)\n",
    "\n",
    "start_time = time.time()\n",
    "\n",
    "clf.fit(X_train,y_train)\n",
    "end_time = time.time()\n",
    "\n",
    "duration = end_time - start_time\n",
    "score = clf.score(X_val,y_val)\n",
    "model_confusion_matrix = confusion_matrix(y_val,clf.predict(X_val))\n",
    "\n",
    "print(\"MLP, training accuracy: %.3f, validation accuracy: %.3f\" % (\n",
    "    clf.score(X_train, y_train), clf.score(X_val, y_val)))\n",
    "print(f\"Fitting Duration (seconds) :{duration:.4f}s\")\n",
    "print(f\"Confusion Matrix :\")\n",
    "print(model_confusion_matrix)\n",
    "\n"
   ]
  },
  {
   "cell_type": "code",
   "execution_count": 245,
   "id": "814d9217",
   "metadata": {},
   "outputs": [
    {
     "name": "stderr",
     "output_type": "stream",
     "text": [
      "/Users/kaiyuan/opt/anaconda3/lib/python3.9/site-packages/sklearn/neural_network/_multilayer_perceptron.py:692: ConvergenceWarning: Stochastic Optimizer: Maximum iterations (200) reached and the optimization hasn't converged yet.\n",
      "  warnings.warn(\n",
      "/Users/kaiyuan/opt/anaconda3/lib/python3.9/site-packages/sklearn/neural_network/_multilayer_perceptron.py:692: ConvergenceWarning: Stochastic Optimizer: Maximum iterations (200) reached and the optimization hasn't converged yet.\n",
      "  warnings.warn(\n",
      "/Users/kaiyuan/opt/anaconda3/lib/python3.9/site-packages/sklearn/neural_network/_multilayer_perceptron.py:692: ConvergenceWarning: Stochastic Optimizer: Maximum iterations (200) reached and the optimization hasn't converged yet.\n",
      "  warnings.warn(\n",
      "/Users/kaiyuan/opt/anaconda3/lib/python3.9/site-packages/sklearn/neural_network/_multilayer_perceptron.py:692: ConvergenceWarning: Stochastic Optimizer: Maximum iterations (200) reached and the optimization hasn't converged yet.\n",
      "  warnings.warn(\n",
      "/Users/kaiyuan/opt/anaconda3/lib/python3.9/site-packages/sklearn/neural_network/_multilayer_perceptron.py:692: ConvergenceWarning: Stochastic Optimizer: Maximum iterations (200) reached and the optimization hasn't converged yet.\n",
      "  warnings.warn(\n",
      "/Users/kaiyuan/opt/anaconda3/lib/python3.9/site-packages/sklearn/neural_network/_multilayer_perceptron.py:692: ConvergenceWarning: Stochastic Optimizer: Maximum iterations (200) reached and the optimization hasn't converged yet.\n",
      "  warnings.warn(\n"
     ]
    },
    {
     "data": {
      "image/png": "[encoded data removed]",
      "text/plain": [
       "<Figure size 600x400 with 1 Axes>"
      ]
     },
     "metadata": {
      "needs_background": "light"
     },
     "output_type": "display_data"
    }
   ],
   "source": [
    "import matplotlib.pyplot as plt\n",
    "\n",
    "# Range of `n_estimators` values to explore.\n",
    "min_layer = 10\n",
    "max_layer = 200\n",
    "train_scores = []\n",
    "val_scores = []\n",
    "\n",
    "clf = MLPClassifier(hidden_layer_sizes=(50,))\n",
    "for i in range(min_layer, max_layer + 1, 10):\n",
    "        clf.set_params(hidden_layer_sizes=(i,))\n",
    "        clf.fit(X_train, y_train)\n",
    "        train_scores.append(clf.score(X_train, y_train))\n",
    "        val_scores.append(clf.score(X_val, y_val))\n",
    "\n",
    "fig, ax = plt.subplots(dpi = 100)\n",
    "ax.set_xlabel(\"hidden layer value\")\n",
    "ax.set_ylabel(\"accuracy\")\n",
    "ax.set_title(\"Accuracy vs layer for training and validation sets\")\n",
    "ax.plot(range(min_layer, max_layer + 1, 10), train_scores, label=\"train\",\n",
    "        drawstyle=\"steps-post\")\n",
    "ax.plot(range(min_layer, max_layer + 1, 10), val_scores, label=\"validation\",\n",
    "        drawstyle=\"steps-post\")\n",
    "ax.legend()\n",
    "plt.show()"
   ]
  },
  {
   "cell_type": "code",
   "execution_count": 246,
   "id": "8fd7a909",
   "metadata": {},
   "outputs": [
    {
     "name": "stderr",
     "output_type": "stream",
     "text": [
      "/Users/kaiyuan/opt/anaconda3/lib/python3.9/site-packages/sklearn/neural_network/_multilayer_perceptron.py:692: ConvergenceWarning: Stochastic Optimizer: Maximum iterations (200) reached and the optimization hasn't converged yet.\n",
      "  warnings.warn(\n"
     ]
    },
    {
     "name": "stdout",
     "output_type": "stream",
     "text": [
      "MLP, training accuracy: 0.969, validation accuracy: 0.933\n",
      "Fitting Duration (seconds) :69.7832s\n",
      "Confusion Matrix :\n",
      "[[ 12   1   0   0   1   0   0   0   0   0   0   0   0   0   0]\n",
      " [  0 142  10   0   2   1   0   0   1   0   0   0   0   0   0]\n",
      " [  0   7 135   3   1   7   0   1   0   0   0   0   2   0   0]\n",
      " [  0   0   3  75   0   6   0   1   0   0   1   0   1   0   0]\n",
      " [  0   3   3   0 124   1   0   0   1   0   0   0   0   0   0]\n",
      " [  0   0   1   0   1 109   0   0   0   0   2   0   0   1   0]\n",
      " [  0   0   0   0   0   1  31   0   0   0   0   0   0   0   0]\n",
      " [  0   1   0   0   1   2   0  85   1   2   0   0   0   0   0]\n",
      " [  0   0   3   3   1   1   0   4  86   0   0   0   0   0   0]\n",
      " [  0   0   1   0   0   1   0   0   0  88   1   0   0   0   0]\n",
      " [  0   0   0   0   0   5   0   0   1   0 125   0   1   0   0]\n",
      " [  0   0   1   0   0   0   0   0   0   0   0  93   0   0   0]\n",
      " [  0   0   1   0   0   1   0   0   0   2   0   1 138   1   0]\n",
      " [  0   0   0   1   0   0   0   0   0   0   1   2   0 145   0]\n",
      " [  0   0   0   0   1   0   0   0   0   0   0   0   0   0  62]]\n"
     ]
    },
    {
     "name": "stderr",
     "output_type": "stream",
     "text": [
      "/Users/kaiyuan/opt/anaconda3/lib/python3.9/site-packages/sklearn/neural_network/_multilayer_perceptron.py:692: ConvergenceWarning: Stochastic Optimizer: Maximum iterations (200) reached and the optimization hasn't converged yet.\n",
      "  warnings.warn(\n",
      "/Users/kaiyuan/opt/anaconda3/lib/python3.9/site-packages/sklearn/neural_network/_multilayer_perceptron.py:692: ConvergenceWarning: Stochastic Optimizer: Maximum iterations (200) reached and the optimization hasn't converged yet.\n",
      "  warnings.warn(\n",
      "/Users/kaiyuan/opt/anaconda3/lib/python3.9/site-packages/sklearn/neural_network/_multilayer_perceptron.py:692: ConvergenceWarning: Stochastic Optimizer: Maximum iterations (200) reached and the optimization hasn't converged yet.\n",
      "  warnings.warn(\n",
      "/Users/kaiyuan/opt/anaconda3/lib/python3.9/site-packages/sklearn/neural_network/_multilayer_perceptron.py:692: ConvergenceWarning: Stochastic Optimizer: Maximum iterations (200) reached and the optimization hasn't converged yet.\n",
      "  warnings.warn(\n"
     ]
    },
    {
     "name": "stdout",
     "output_type": "stream",
     "text": [
      "Cross-Validation-Scores: [0.93924232 0.92634966 0.93564533 0.92634966 0.92742224]\n",
      "MAX Cross-Validation-Score: 0.9392423159399571\n",
      "MIN Cross-Validation-Score: 0.9263496603503754\n",
      "Cross-Validation-Accuracy: 0.931002 (+/- 0.01)\n"
     ]
    },
    {
     "name": "stderr",
     "output_type": "stream",
     "text": [
      "/Users/kaiyuan/opt/anaconda3/lib/python3.9/site-packages/sklearn/neural_network/_multilayer_perceptron.py:692: ConvergenceWarning: Stochastic Optimizer: Maximum iterations (200) reached and the optimization hasn't converged yet.\n",
      "  warnings.warn(\n"
     ]
    }
   ],
   "source": [
    "#best paramter\n",
    "from sklearn.neural_network import MLPClassifier\n",
    "clf = MLPClassifier(solver='sgd', alpha=1e-5,\n",
    "                    hidden_layer_sizes=(100,), random_state=0)\n",
    "\n",
    "start_time = time.time()\n",
    "\n",
    "clf.fit(X_train,y_train)\n",
    "end_time = time.time()\n",
    "\n",
    "duration = end_time - start_time\n",
    "score = clf.score(X_val,y_val)\n",
    "model_confusion_matrix = confusion_matrix(y_val,clf.predict(X_val))\n",
    "\n",
    "print(\"MLP, training accuracy: %.3f, validation accuracy: %.3f\" % (\n",
    "    clf.score(X_train, y_train), clf.score(X_val, y_val)))\n",
    "print(f\"Fitting Duration (seconds) :{duration:.4f}s\")\n",
    "print(f\"Confusion Matrix :\")\n",
    "print(model_confusion_matrix)\n",
    "\n",
    "\n",
    "cv_scores = cross_val_score(clf, X_train, y_train, cv=5)\n",
    "print(\"Cross-Validation-Scores: \"+str(cv_scores))\n",
    "print(\"MAX Cross-Validation-Score: \"+str(max(cv_scores)))\n",
    "print(\"MIN Cross-Validation-Score: \"+str(min(cv_scores)))\n",
    "print(\"Cross-Validation-Accuracy: %.6f (+/- %0.2f)\" % (cv_scores.mean(), cv_scores.std() * 2))\n",
    "\n"
   ]
  },
  {
   "cell_type": "code",
   "execution_count": null,
   "id": "7c58cd71",
   "metadata": {},
   "outputs": [],
   "source": []
  },
  {
   "cell_type": "code",
   "execution_count": null,
   "id": "076879e8",
   "metadata": {},
   "outputs": [],
   "source": []
  }
 ],
 "metadata": {
  "kernelspec": {
   "display_name": "Python 3 (ipykernel)",
   "language": "python",
   "name": "python3"
  },
  "language_info": {
   "codemirror_mode": {
    "name": "ipython",
    "version": 3
   },
   "file_extension": ".py",
   "mimetype": "text/x-python",
   "name": "python",
   "nbconvert_exporter": "python",
   "pygments_lexer": "ipython3",
   "version": "3.9.12"
  }
 },
 "nbformat": 4,
 "nbformat_minor": 5
}
